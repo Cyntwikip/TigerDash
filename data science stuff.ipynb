{
 "cells": [
  {
   "cell_type": "markdown",
   "metadata": {},
   "source": [
    "## Testing IRA\n",
    "\n",
    "You may ignore..."
   ]
  },
  {
   "cell_type": "code",
   "execution_count": 7,
   "metadata": {},
   "outputs": [],
   "source": [
    "import pandas as pd"
   ]
  },
  {
   "cell_type": "code",
   "execution_count": 8,
   "metadata": {},
   "outputs": [
    {
     "data": {
      "text/html": [
       "<div>\n",
       "<style scoped>\n",
       "    .dataframe tbody tr th:only-of-type {\n",
       "        vertical-align: middle;\n",
       "    }\n",
       "\n",
       "    .dataframe tbody tr th {\n",
       "        vertical-align: top;\n",
       "    }\n",
       "\n",
       "    .dataframe thead th {\n",
       "        text-align: right;\n",
       "    }\n",
       "</style>\n",
       "<table border=\"1\" class=\"dataframe\">\n",
       "  <thead>\n",
       "    <tr style=\"text-align: right;\">\n",
       "      <th></th>\n",
       "      <th>province</th>\n",
       "      <th>city_muni</th>\n",
       "      <th>year</th>\n",
       "      <th>ira</th>\n",
       "    </tr>\n",
       "  </thead>\n",
       "  <tbody>\n",
       "    <tr>\n",
       "      <th>0</th>\n",
       "      <td>Abra</td>\n",
       "      <td>Bangued</td>\n",
       "      <td>1992</td>\n",
       "      <td>0.000000</td>\n",
       "    </tr>\n",
       "    <tr>\n",
       "      <th>1</th>\n",
       "      <td>Abra</td>\n",
       "      <td>Bangued</td>\n",
       "      <td>1993</td>\n",
       "      <td>7.280949</td>\n",
       "    </tr>\n",
       "    <tr>\n",
       "      <th>2</th>\n",
       "      <td>Abra</td>\n",
       "      <td>Bangued</td>\n",
       "      <td>1994</td>\n",
       "      <td>10.311497</td>\n",
       "    </tr>\n",
       "    <tr>\n",
       "      <th>3</th>\n",
       "      <td>Abra</td>\n",
       "      <td>Bangued</td>\n",
       "      <td>1995</td>\n",
       "      <td>10.311497</td>\n",
       "    </tr>\n",
       "    <tr>\n",
       "      <th>4</th>\n",
       "      <td>Abra</td>\n",
       "      <td>Bangued</td>\n",
       "      <td>1996</td>\n",
       "      <td>12.435710</td>\n",
       "    </tr>\n",
       "  </tbody>\n",
       "</table>\n",
       "</div>"
      ],
      "text/plain": [
       "  province city_muni  year        ira\n",
       "0     Abra   Bangued  1992   0.000000\n",
       "1     Abra   Bangued  1993   7.280949\n",
       "2     Abra   Bangued  1994  10.311497\n",
       "3     Abra   Bangued  1995  10.311497\n",
       "4     Abra   Bangued  1996  12.435710"
      ]
     },
     "execution_count": 8,
     "metadata": {},
     "output_type": "execute_result"
    }
   ],
   "source": [
    "df = pd.read_csv('ira.csv')\n",
    "df.head()"
   ]
  },
  {
   "cell_type": "code",
   "execution_count": 61,
   "metadata": {},
   "outputs": [],
   "source": [
    "# sorted(df['year'].value_counts().index.tolist())"
   ]
  },
  {
   "cell_type": "code",
   "execution_count": 10,
   "metadata": {},
   "outputs": [
    {
     "data": {
      "text/html": [
       "<div>\n",
       "<style scoped>\n",
       "    .dataframe tbody tr th:only-of-type {\n",
       "        vertical-align: middle;\n",
       "    }\n",
       "\n",
       "    .dataframe tbody tr th {\n",
       "        vertical-align: top;\n",
       "    }\n",
       "\n",
       "    .dataframe thead th {\n",
       "        text-align: right;\n",
       "    }\n",
       "</style>\n",
       "<table border=\"1\" class=\"dataframe\">\n",
       "  <thead>\n",
       "    <tr style=\"text-align: right;\">\n",
       "      <th></th>\n",
       "      <th>province</th>\n",
       "      <th>city_muni</th>\n",
       "      <th>year</th>\n",
       "      <th>ira</th>\n",
       "    </tr>\n",
       "  </thead>\n",
       "  <tbody>\n",
       "    <tr>\n",
       "      <th>24</th>\n",
       "      <td>Abra</td>\n",
       "      <td>Bangued</td>\n",
       "      <td>2016</td>\n",
       "      <td>96.897952</td>\n",
       "    </tr>\n",
       "    <tr>\n",
       "      <th>49</th>\n",
       "      <td>Abra</td>\n",
       "      <td>Boliney</td>\n",
       "      <td>2016</td>\n",
       "      <td>56.574216</td>\n",
       "    </tr>\n",
       "    <tr>\n",
       "      <th>74</th>\n",
       "      <td>Abra</td>\n",
       "      <td>Bucay</td>\n",
       "      <td>2016</td>\n",
       "      <td>60.534970</td>\n",
       "    </tr>\n",
       "    <tr>\n",
       "      <th>99</th>\n",
       "      <td>Abra</td>\n",
       "      <td>Bucloc</td>\n",
       "      <td>2016</td>\n",
       "      <td>35.734824</td>\n",
       "    </tr>\n",
       "    <tr>\n",
       "      <th>124</th>\n",
       "      <td>Abra</td>\n",
       "      <td>Daguioman</td>\n",
       "      <td>2016</td>\n",
       "      <td>40.996075</td>\n",
       "    </tr>\n",
       "  </tbody>\n",
       "</table>\n",
       "</div>"
      ],
      "text/plain": [
       "    province  city_muni  year        ira\n",
       "24      Abra    Bangued  2016  96.897952\n",
       "49      Abra    Boliney  2016  56.574216\n",
       "74      Abra      Bucay  2016  60.534970\n",
       "99      Abra     Bucloc  2016  35.734824\n",
       "124     Abra  Daguioman  2016  40.996075"
      ]
     },
     "execution_count": 10,
     "metadata": {},
     "output_type": "execute_result"
    }
   ],
   "source": [
    "df_2016 = df[df.year==2016]\n",
    "df_2016.head()"
   ]
  },
  {
   "cell_type": "code",
   "execution_count": 11,
   "metadata": {},
   "outputs": [
    {
     "data": {
      "text/plain": [
       "1626"
      ]
     },
     "execution_count": 11,
     "metadata": {},
     "output_type": "execute_result"
    }
   ],
   "source": [
    "len(df_2016.city_muni)"
   ]
  },
  {
   "cell_type": "code",
   "execution_count": 12,
   "metadata": {},
   "outputs": [],
   "source": [
    "# set(df_2016.province.tolist())"
   ]
  },
  {
   "cell_type": "code",
   "execution_count": 62,
   "metadata": {},
   "outputs": [],
   "source": [
    "# df_2016[df_2016.province == 'Metropolitan Manila']"
   ]
  },
  {
   "cell_type": "markdown",
   "metadata": {},
   "source": [
    "Cities of interest: Pasay, Manila, Makati, San Juan, Mandaluyong\n",
    "\n",
    "Population data: \n",
    "- https://worldpopulationreview.com/countries/cities/philippines\n",
    "- https://en.wikipedia.org/wiki/List_of_cities_in_the_Philippines\n",
    "\n",
    "Population as of 2015: \n",
    "- Pasay City: 416,522\n",
    "- Manila: 1,600,000\n",
    "- Makati City: 510,383\n",
    "- San Juan: 121,430\n",
    "- Mandaluyong: 305,576"
   ]
  },
  {
   "cell_type": "code",
   "execution_count": 46,
   "metadata": {},
   "outputs": [],
   "source": [
    "# cities = ['Pasay City', 'Manila', 'Makati City', 'San Juan', 'Mandaluyong']\n",
    "\n",
    "# [city for city in df_2016.city_muni.tolist() if city in cities]"
   ]
  },
  {
   "cell_type": "code",
   "execution_count": 47,
   "metadata": {},
   "outputs": [
    {
     "name": "stderr",
     "output_type": "stream",
     "text": [
      "C:\\Users\\jude_\\anaconda3\\envs\\dsi\\lib\\site-packages\\ipykernel_launcher.py:9: SettingWithCopyWarning: \n",
      "A value is trying to be set on a copy of a slice from a DataFrame.\n",
      "Try using .loc[row_indexer,col_indexer] = value instead\n",
      "\n",
      "See the caveats in the documentation: https://pandas.pydata.org/pandas-docs/stable/user_guide/indexing.html#returning-a-view-versus-a-copy\n",
      "  if __name__ == '__main__':\n"
     ]
    },
    {
     "data": {
      "text/html": [
       "<div>\n",
       "<style scoped>\n",
       "    .dataframe tbody tr th:only-of-type {\n",
       "        vertical-align: middle;\n",
       "    }\n",
       "\n",
       "    .dataframe tbody tr th {\n",
       "        vertical-align: top;\n",
       "    }\n",
       "\n",
       "    .dataframe thead th {\n",
       "        text-align: right;\n",
       "    }\n",
       "</style>\n",
       "<table border=\"1\" class=\"dataframe\">\n",
       "  <thead>\n",
       "    <tr style=\"text-align: right;\">\n",
       "      <th></th>\n",
       "      <th>province</th>\n",
       "      <th>city_muni</th>\n",
       "      <th>year</th>\n",
       "      <th>ira</th>\n",
       "      <th>population</th>\n",
       "    </tr>\n",
       "  </thead>\n",
       "  <tbody>\n",
       "    <tr>\n",
       "      <th>23287</th>\n",
       "      <td>Metropolitan Manila</td>\n",
       "      <td>Makati City</td>\n",
       "      <td>2016</td>\n",
       "      <td>944.018174</td>\n",
       "      <td>510383</td>\n",
       "    </tr>\n",
       "    <tr>\n",
       "      <th>23334</th>\n",
       "      <td>Metropolitan Manila</td>\n",
       "      <td>Mandaluyong</td>\n",
       "      <td>2016</td>\n",
       "      <td>640.808077</td>\n",
       "      <td>305576</td>\n",
       "    </tr>\n",
       "    <tr>\n",
       "      <th>23359</th>\n",
       "      <td>Metropolitan Manila</td>\n",
       "      <td>Manila</td>\n",
       "      <td>2016</td>\n",
       "      <td>2416.221197</td>\n",
       "      <td>1600000</td>\n",
       "    </tr>\n",
       "    <tr>\n",
       "      <th>23484</th>\n",
       "      <td>Metropolitan Manila</td>\n",
       "      <td>Pasay City</td>\n",
       "      <td>2016</td>\n",
       "      <td>692.291148</td>\n",
       "      <td>416522</td>\n",
       "    </tr>\n",
       "    <tr>\n",
       "      <th>23583</th>\n",
       "      <td>Metropolitan Manila</td>\n",
       "      <td>San Juan</td>\n",
       "      <td>2016</td>\n",
       "      <td>338.540311</td>\n",
       "      <td>121430</td>\n",
       "    </tr>\n",
       "  </tbody>\n",
       "</table>\n",
       "</div>"
      ],
      "text/plain": [
       "                  province    city_muni  year          ira  population\n",
       "23287  Metropolitan Manila  Makati City  2016   944.018174      510383\n",
       "23334  Metropolitan Manila  Mandaluyong  2016   640.808077      305576\n",
       "23359  Metropolitan Manila       Manila  2016  2416.221197     1600000\n",
       "23484  Metropolitan Manila   Pasay City  2016   692.291148      416522\n",
       "23583  Metropolitan Manila     San Juan  2016   338.540311      121430"
      ]
     },
     "execution_count": 47,
     "metadata": {},
     "output_type": "execute_result"
    }
   ],
   "source": [
    "df2 = df_2016[(df_2016.province=='Metropolitan Manila') & (df_2016.city_muni.isin(cities))]\n",
    "\n",
    "city_population_mapping = {'Pasay City': 416522,\n",
    "                        'Manila': 1600000,\n",
    "                        'Makati City': 510383,\n",
    "                        'San Juan': 121430,\n",
    "                        'Mandaluyong': 305576}\n",
    "\n",
    "df2['population'] = df2.city_muni.map(city_population_mapping) \n",
    "\n",
    "df2.head()"
   ]
  },
  {
   "cell_type": "code",
   "execution_count": null,
   "metadata": {},
   "outputs": [],
   "source": []
  },
  {
   "cell_type": "code",
   "execution_count": null,
   "metadata": {},
   "outputs": [],
   "source": []
  },
  {
   "cell_type": "markdown",
   "metadata": {},
   "source": [
    "## Geospatial Analysis"
   ]
  },
  {
   "cell_type": "code",
   "execution_count": 48,
   "metadata": {},
   "outputs": [],
   "source": [
    "import geopandas as gpd\n",
    "import pandas as pd\n",
    "import json\n",
    "import matplotlib.pyplot as plt\n",
    "import numpy as np\n",
    "import requests\n",
    "import json\n",
    "from fuzzywuzzy import process\n",
    "from shapely.geometry import Polygon, Point"
   ]
  },
  {
   "cell_type": "markdown",
   "metadata": {},
   "source": [
    "### Using GADM to get PH cities polygons"
   ]
  },
  {
   "cell_type": "code",
   "execution_count": 49,
   "metadata": {},
   "outputs": [
    {
     "data": {
      "text/html": [
       "<div>\n",
       "<style scoped>\n",
       "    .dataframe tbody tr th:only-of-type {\n",
       "        vertical-align: middle;\n",
       "    }\n",
       "\n",
       "    .dataframe tbody tr th {\n",
       "        vertical-align: top;\n",
       "    }\n",
       "\n",
       "    .dataframe thead th {\n",
       "        text-align: right;\n",
       "    }\n",
       "</style>\n",
       "<table border=\"1\" class=\"dataframe\">\n",
       "  <thead>\n",
       "    <tr style=\"text-align: right;\">\n",
       "      <th></th>\n",
       "      <th>GID_0</th>\n",
       "      <th>NAME_0</th>\n",
       "      <th>GID_1</th>\n",
       "      <th>NAME_1</th>\n",
       "      <th>NL_NAME_1</th>\n",
       "      <th>GID_2</th>\n",
       "      <th>NAME_2</th>\n",
       "      <th>VARNAME_2</th>\n",
       "      <th>NL_NAME_2</th>\n",
       "      <th>TYPE_2</th>\n",
       "      <th>ENGTYPE_2</th>\n",
       "      <th>CC_2</th>\n",
       "      <th>HASC_2</th>\n",
       "      <th>geometry</th>\n",
       "    </tr>\n",
       "  </thead>\n",
       "  <tbody>\n",
       "    <tr>\n",
       "      <th>0</th>\n",
       "      <td>PHL</td>\n",
       "      <td>Philippines</td>\n",
       "      <td>PHL.1_1</td>\n",
       "      <td>Abra</td>\n",
       "      <td>None</td>\n",
       "      <td>PHL.1.1_1</td>\n",
       "      <td>Bangued</td>\n",
       "      <td>None</td>\n",
       "      <td>None</td>\n",
       "      <td>Bayan|Munisipyo</td>\n",
       "      <td>Municipality</td>\n",
       "      <td>140101</td>\n",
       "      <td>PH.AB.BN</td>\n",
       "      <td>POLYGON ((120.62710 17.49300, 120.62177 17.493...</td>\n",
       "    </tr>\n",
       "    <tr>\n",
       "      <th>1</th>\n",
       "      <td>PHL</td>\n",
       "      <td>Philippines</td>\n",
       "      <td>PHL.1_1</td>\n",
       "      <td>Abra</td>\n",
       "      <td>None</td>\n",
       "      <td>PHL.1.2_1</td>\n",
       "      <td>Boliney</td>\n",
       "      <td>None</td>\n",
       "      <td>None</td>\n",
       "      <td>Bayan|Munisipyo</td>\n",
       "      <td>Municipality</td>\n",
       "      <td>140102</td>\n",
       "      <td>PH.AB.BL</td>\n",
       "      <td>POLYGON ((120.99042 17.39802, 120.98631 17.387...</td>\n",
       "    </tr>\n",
       "    <tr>\n",
       "      <th>2</th>\n",
       "      <td>PHL</td>\n",
       "      <td>Philippines</td>\n",
       "      <td>PHL.1_1</td>\n",
       "      <td>Abra</td>\n",
       "      <td>None</td>\n",
       "      <td>PHL.1.3_1</td>\n",
       "      <td>Bucay</td>\n",
       "      <td>None</td>\n",
       "      <td>None</td>\n",
       "      <td>Bayan|Munisipyo</td>\n",
       "      <td>Municipality</td>\n",
       "      <td>140103</td>\n",
       "      <td>PH.AB.BU</td>\n",
       "      <td>POLYGON ((120.70788 17.45395, 120.70621 17.455...</td>\n",
       "    </tr>\n",
       "    <tr>\n",
       "      <th>3</th>\n",
       "      <td>PHL</td>\n",
       "      <td>Philippines</td>\n",
       "      <td>PHL.1_1</td>\n",
       "      <td>Abra</td>\n",
       "      <td>None</td>\n",
       "      <td>PHL.1.4_1</td>\n",
       "      <td>Bucloc</td>\n",
       "      <td>None</td>\n",
       "      <td>None</td>\n",
       "      <td>Bayan|Munisipyo</td>\n",
       "      <td>Municipality</td>\n",
       "      <td>140104</td>\n",
       "      <td>PH.AB.BC</td>\n",
       "      <td>POLYGON ((120.78956 17.41699, 120.78922 17.445...</td>\n",
       "    </tr>\n",
       "    <tr>\n",
       "      <th>4</th>\n",
       "      <td>PHL</td>\n",
       "      <td>Philippines</td>\n",
       "      <td>PHL.1_1</td>\n",
       "      <td>Abra</td>\n",
       "      <td>None</td>\n",
       "      <td>PHL.1.5_1</td>\n",
       "      <td>Daguioman</td>\n",
       "      <td>None</td>\n",
       "      <td>None</td>\n",
       "      <td>Bayan|Munisipyo</td>\n",
       "      <td>Municipality</td>\n",
       "      <td>140105</td>\n",
       "      <td>PH.AB.DG</td>\n",
       "      <td>POLYGON ((120.92917 17.41307, 120.92464 17.413...</td>\n",
       "    </tr>\n",
       "  </tbody>\n",
       "</table>\n",
       "</div>"
      ],
      "text/plain": [
       "  GID_0       NAME_0    GID_1 NAME_1 NL_NAME_1      GID_2     NAME_2  \\\n",
       "0   PHL  Philippines  PHL.1_1   Abra      None  PHL.1.1_1    Bangued   \n",
       "1   PHL  Philippines  PHL.1_1   Abra      None  PHL.1.2_1    Boliney   \n",
       "2   PHL  Philippines  PHL.1_1   Abra      None  PHL.1.3_1      Bucay   \n",
       "3   PHL  Philippines  PHL.1_1   Abra      None  PHL.1.4_1     Bucloc   \n",
       "4   PHL  Philippines  PHL.1_1   Abra      None  PHL.1.5_1  Daguioman   \n",
       "\n",
       "  VARNAME_2 NL_NAME_2           TYPE_2     ENGTYPE_2    CC_2    HASC_2  \\\n",
       "0      None      None  Bayan|Munisipyo  Municipality  140101  PH.AB.BN   \n",
       "1      None      None  Bayan|Munisipyo  Municipality  140102  PH.AB.BL   \n",
       "2      None      None  Bayan|Munisipyo  Municipality  140103  PH.AB.BU   \n",
       "3      None      None  Bayan|Munisipyo  Municipality  140104  PH.AB.BC   \n",
       "4      None      None  Bayan|Munisipyo  Municipality  140105  PH.AB.DG   \n",
       "\n",
       "                                            geometry  \n",
       "0  POLYGON ((120.62710 17.49300, 120.62177 17.493...  \n",
       "1  POLYGON ((120.99042 17.39802, 120.98631 17.387...  \n",
       "2  POLYGON ((120.70788 17.45395, 120.70621 17.455...  \n",
       "3  POLYGON ((120.78956 17.41699, 120.78922 17.445...  \n",
       "4  POLYGON ((120.92917 17.41307, 120.92464 17.413...  "
      ]
     },
     "execution_count": 49,
     "metadata": {},
     "output_type": "execute_result"
    }
   ],
   "source": [
    "ph_city_gdf = gpd.read_file(\"gadm36_PHL_shp/\" + \"gadm36_PHL_2.shp\")\n",
    "ph_city_gdf.head()"
   ]
  },
  {
   "cell_type": "code",
   "execution_count": 50,
   "metadata": {},
   "outputs": [],
   "source": [
    "# fig, ax = plt.subplots(1, figsize=(15, 12))\n",
    "# metro_manila_gdf = ph_city_gdf[ph_city_gdf[\"NAME_1\"] == \"Metropolitan Manila\"]\n",
    "# metro_manila_gdf.plot(ax=ax)\n",
    "\n",
    "# for x, y, label in zip(metro_manila_gdf.geometry.centroid.x, \n",
    "#                        metro_manila_gdf.geometry.centroid.y, \n",
    "#                        metro_manila_gdf.NAME_2):\n",
    "# #     ax.annotate(label, xy=(x, y), xytext=(1, 1), textcoords=\"offset points\")\n",
    "#     ax.annotate(label, xy=(x, y))\n",
    "\n",
    "\n",
    "# ax.axis('off');"
   ]
  },
  {
   "cell_type": "code",
   "execution_count": 51,
   "metadata": {},
   "outputs": [
    {
     "data": {
      "image/png": "[encoded data removed]",
      "text/plain": [
       "<Figure size 1080x864 with 1 Axes>"
      ]
     },
     "metadata": {
      "needs_background": "light"
     },
     "output_type": "display_data"
    }
   ],
   "source": [
    "fig, ax = plt.subplots(1, figsize=(15, 12))\n",
    "metro_manila_gdf = ph_city_gdf[ph_city_gdf[\"NAME_1\"] == \"Metropolitan Manila\"]\n",
    "metro_manila_gdf = metro_manila_gdf[metro_manila_gdf[\"NAME_2\"].isin(cities)]\n",
    "metro_manila_gdf.plot(ax=ax)\n",
    "\n",
    "for x, y, label in zip(metro_manila_gdf.geometry.centroid.x, \n",
    "                       metro_manila_gdf.geometry.centroid.y, \n",
    "                       metro_manila_gdf.NAME_2):\n",
    "#     ax.annotate(label, xy=(x, y), xytext=(1, 1), textcoords=\"offset points\")\n",
    "    ax.annotate(label, xy=(x, y))\n",
    "\n",
    "ax.axis('off');"
   ]
  },
  {
   "cell_type": "code",
   "execution_count": 52,
   "metadata": {},
   "outputs": [
    {
     "data": {
      "text/html": [
       "<div>\n",
       "<style scoped>\n",
       "    .dataframe tbody tr th:only-of-type {\n",
       "        vertical-align: middle;\n",
       "    }\n",
       "\n",
       "    .dataframe tbody tr th {\n",
       "        vertical-align: top;\n",
       "    }\n",
       "\n",
       "    .dataframe thead th {\n",
       "        text-align: right;\n",
       "    }\n",
       "</style>\n",
       "<table border=\"1\" class=\"dataframe\">\n",
       "  <thead>\n",
       "    <tr style=\"text-align: right;\">\n",
       "      <th></th>\n",
       "      <th>GID_0</th>\n",
       "      <th>NAME_0</th>\n",
       "      <th>GID_1</th>\n",
       "      <th>NAME_1</th>\n",
       "      <th>NL_NAME_1</th>\n",
       "      <th>GID_2</th>\n",
       "      <th>NAME_2</th>\n",
       "      <th>VARNAME_2</th>\n",
       "      <th>NL_NAME_2</th>\n",
       "      <th>TYPE_2</th>\n",
       "      <th>ENGTYPE_2</th>\n",
       "      <th>CC_2</th>\n",
       "      <th>HASC_2</th>\n",
       "      <th>geometry</th>\n",
       "    </tr>\n",
       "  </thead>\n",
       "  <tbody>\n",
       "    <tr>\n",
       "      <th>962</th>\n",
       "      <td>PHL</td>\n",
       "      <td>Philippines</td>\n",
       "      <td>PHL.47_1</td>\n",
       "      <td>Metropolitan Manila</td>\n",
       "      <td>None</td>\n",
       "      <td>PHL.47.3_1</td>\n",
       "      <td>Makati City</td>\n",
       "      <td>Makati, City of</td>\n",
       "      <td>None</td>\n",
       "      <td>Lungsod|Siyudad</td>\n",
       "      <td>City</td>\n",
       "      <td>137602</td>\n",
       "      <td>PH.MM.MK</td>\n",
       "      <td>POLYGON ((121.06578 14.53872, 121.06594 14.538...</td>\n",
       "    </tr>\n",
       "    <tr>\n",
       "      <th>964</th>\n",
       "      <td>PHL</td>\n",
       "      <td>Philippines</td>\n",
       "      <td>PHL.47_1</td>\n",
       "      <td>Metropolitan Manila</td>\n",
       "      <td>None</td>\n",
       "      <td>PHL.47.5_1</td>\n",
       "      <td>Mandaluyong</td>\n",
       "      <td>Mandaluyong, City of</td>\n",
       "      <td>None</td>\n",
       "      <td>Lungsod|Siyudad</td>\n",
       "      <td>City</td>\n",
       "      <td>137401</td>\n",
       "      <td>PH.MM.MD</td>\n",
       "      <td>POLYGON ((121.05405 14.57747, 121.05408 14.577...</td>\n",
       "    </tr>\n",
       "    <tr>\n",
       "      <th>965</th>\n",
       "      <td>PHL</td>\n",
       "      <td>Philippines</td>\n",
       "      <td>PHL.47_1</td>\n",
       "      <td>Metropolitan Manila</td>\n",
       "      <td>None</td>\n",
       "      <td>PHL.47.6_1</td>\n",
       "      <td>Manila</td>\n",
       "      <td>City of Manila|Manila, City of</td>\n",
       "      <td>None</td>\n",
       "      <td>Lungsod|Siyudad</td>\n",
       "      <td>City</td>\n",
       "      <td>133900</td>\n",
       "      <td>PH.MM.MN</td>\n",
       "      <td>POLYGON ((120.99142 14.56218, 120.98849 14.561...</td>\n",
       "    </tr>\n",
       "    <tr>\n",
       "      <th>970</th>\n",
       "      <td>PHL</td>\n",
       "      <td>Philippines</td>\n",
       "      <td>PHL.47_1</td>\n",
       "      <td>Metropolitan Manila</td>\n",
       "      <td>None</td>\n",
       "      <td>PHL.47.11_1</td>\n",
       "      <td>Pasay City</td>\n",
       "      <td>None</td>\n",
       "      <td>None</td>\n",
       "      <td>Lungsod|Siyudad</td>\n",
       "      <td>City</td>\n",
       "      <td>137605</td>\n",
       "      <td>PH.MM.PY</td>\n",
       "      <td>POLYGON ((121.00084 14.50921, 121.00070 14.509...</td>\n",
       "    </tr>\n",
       "    <tr>\n",
       "      <th>974</th>\n",
       "      <td>PHL</td>\n",
       "      <td>Philippines</td>\n",
       "      <td>PHL.47_1</td>\n",
       "      <td>Metropolitan Manila</td>\n",
       "      <td>None</td>\n",
       "      <td>PHL.47.15_1</td>\n",
       "      <td>San Juan</td>\n",
       "      <td>None</td>\n",
       "      <td>None</td>\n",
       "      <td>Lungsod|Siyudad</td>\n",
       "      <td>City</td>\n",
       "      <td>137405</td>\n",
       "      <td>PH.AB.SJ</td>\n",
       "      <td>POLYGON ((121.02965 14.59402, 121.02961 14.594...</td>\n",
       "    </tr>\n",
       "  </tbody>\n",
       "</table>\n",
       "</div>"
      ],
      "text/plain": [
       "    GID_0       NAME_0     GID_1               NAME_1 NL_NAME_1        GID_2  \\\n",
       "962   PHL  Philippines  PHL.47_1  Metropolitan Manila      None   PHL.47.3_1   \n",
       "964   PHL  Philippines  PHL.47_1  Metropolitan Manila      None   PHL.47.5_1   \n",
       "965   PHL  Philippines  PHL.47_1  Metropolitan Manila      None   PHL.47.6_1   \n",
       "970   PHL  Philippines  PHL.47_1  Metropolitan Manila      None  PHL.47.11_1   \n",
       "974   PHL  Philippines  PHL.47_1  Metropolitan Manila      None  PHL.47.15_1   \n",
       "\n",
       "          NAME_2                       VARNAME_2 NL_NAME_2           TYPE_2  \\\n",
       "962  Makati City                 Makati, City of      None  Lungsod|Siyudad   \n",
       "964  Mandaluyong            Mandaluyong, City of      None  Lungsod|Siyudad   \n",
       "965       Manila  City of Manila|Manila, City of      None  Lungsod|Siyudad   \n",
       "970   Pasay City                            None      None  Lungsod|Siyudad   \n",
       "974     San Juan                            None      None  Lungsod|Siyudad   \n",
       "\n",
       "    ENGTYPE_2    CC_2    HASC_2  \\\n",
       "962      City  137602  PH.MM.MK   \n",
       "964      City  137401  PH.MM.MD   \n",
       "965      City  133900  PH.MM.MN   \n",
       "970      City  137605  PH.MM.PY   \n",
       "974      City  137405  PH.AB.SJ   \n",
       "\n",
       "                                              geometry  \n",
       "962  POLYGON ((121.06578 14.53872, 121.06594 14.538...  \n",
       "964  POLYGON ((121.05405 14.57747, 121.05408 14.577...  \n",
       "965  POLYGON ((120.99142 14.56218, 120.98849 14.561...  \n",
       "970  POLYGON ((121.00084 14.50921, 121.00070 14.509...  \n",
       "974  POLYGON ((121.02965 14.59402, 121.02961 14.594...  "
      ]
     },
     "execution_count": 52,
     "metadata": {},
     "output_type": "execute_result"
    }
   ],
   "source": [
    "metro_manila_gdf"
   ]
  },
  {
   "cell_type": "markdown",
   "metadata": {},
   "source": [
    "### Getting climate and demographic features\n",
    "\n",
    "Cities of interest: Pasay, Manila, Makati, San Juan, Mandaluyong\n",
    "\n",
    "Population data sources: \n",
    "- https://worldpopulationreview.com/countries/cities/philippines\n",
    "- https://en.wikipedia.org/wiki/List_of_cities_in_the_Philippines\n",
    "\n",
    "Population as of 2015: \n",
    "- Pasay City: 416,522\n",
    "- Manila: 1,600,000\n",
    "- Makati City: 510,383\n",
    "- San Juan: 121,430\n",
    "- Mandaluyong: 305,576\n",
    "\n",
    "https://en.climate-data.org/asia/philippines/pasay/pasay-3101/\n",
    "https://en.climate-data.org/asia/philippines/batangas/san-juan-20381/\n",
    "https://en.climate-data.org/asia/philippines/manila/manila-1952/\n",
    "https://en.climate-data.org/asia/philippines/makati/makati-3104/\n",
    "https://en.climate-data.org/asia/philippines/mandaluyong/mandaluyong-1966/\n",
    "\n",
    "altitude, rainfall, temperature (celsius), density:\n",
    "- pasay: 8m, 1946mm, 27.3, 30000\n",
    "- san juan: 21m, 1820mm, 27.2, 21000\n",
    "- manila: 10m, 2047mm, 27.3, 42000\n",
    "- makati: 18m, 2013mm, 27.3, 27000\n",
    "- mandaluyong: 14m, 2093mm, 27.2, 18000"
   ]
  },
  {
   "cell_type": "code",
   "execution_count": 63,
   "metadata": {},
   "outputs": [
    {
     "name": "stderr",
     "output_type": "stream",
     "text": [
      "C:\\Users\\jude_\\anaconda3\\envs\\dsi\\lib\\site-packages\\ipykernel_launcher.py:4: SettingWithCopyWarning: \n",
      "A value is trying to be set on a copy of a slice from a DataFrame.\n",
      "Try using .loc[row_indexer,col_indexer] = value instead\n",
      "\n",
      "See the caveats in the documentation: https://pandas.pydata.org/pandas-docs/stable/user_guide/indexing.html#returning-a-view-versus-a-copy\n",
      "  after removing the cwd from sys.path.\n",
      "C:\\Users\\jude_\\anaconda3\\envs\\dsi\\lib\\site-packages\\ipykernel_launcher.py:7: SettingWithCopyWarning: \n",
      "A value is trying to be set on a copy of a slice from a DataFrame.\n",
      "Try using .loc[row_indexer,col_indexer] = value instead\n",
      "\n",
      "See the caveats in the documentation: https://pandas.pydata.org/pandas-docs/stable/user_guide/indexing.html#returning-a-view-versus-a-copy\n",
      "  import sys\n",
      "C:\\Users\\jude_\\anaconda3\\envs\\dsi\\lib\\site-packages\\ipykernel_launcher.py:8: SettingWithCopyWarning: \n",
      "A value is trying to be set on a copy of a slice from a DataFrame.\n",
      "Try using .loc[row_indexer,col_indexer] = value instead\n",
      "\n",
      "See the caveats in the documentation: https://pandas.pydata.org/pandas-docs/stable/user_guide/indexing.html#returning-a-view-versus-a-copy\n",
      "  \n",
      "C:\\Users\\jude_\\anaconda3\\envs\\dsi\\lib\\site-packages\\ipykernel_launcher.py:9: SettingWithCopyWarning: \n",
      "A value is trying to be set on a copy of a slice from a DataFrame.\n",
      "Try using .loc[row_indexer,col_indexer] = value instead\n",
      "\n",
      "See the caveats in the documentation: https://pandas.pydata.org/pandas-docs/stable/user_guide/indexing.html#returning-a-view-versus-a-copy\n",
      "  if __name__ == '__main__':\n",
      "C:\\Users\\jude_\\anaconda3\\envs\\dsi\\lib\\site-packages\\ipykernel_launcher.py:10: SettingWithCopyWarning: \n",
      "A value is trying to be set on a copy of a slice from a DataFrame.\n",
      "Try using .loc[row_indexer,col_indexer] = value instead\n",
      "\n",
      "See the caveats in the documentation: https://pandas.pydata.org/pandas-docs/stable/user_guide/indexing.html#returning-a-view-versus-a-copy\n",
      "  # Remove the CWD from sys.path while we load stuff.\n"
     ]
    },
    {
     "data": {
      "text/html": [
       "<div>\n",
       "<style scoped>\n",
       "    .dataframe tbody tr th:only-of-type {\n",
       "        vertical-align: middle;\n",
       "    }\n",
       "\n",
       "    .dataframe tbody tr th {\n",
       "        vertical-align: top;\n",
       "    }\n",
       "\n",
       "    .dataframe thead th {\n",
       "        text-align: right;\n",
       "    }\n",
       "</style>\n",
       "<table border=\"1\" class=\"dataframe\">\n",
       "  <thead>\n",
       "    <tr style=\"text-align: right;\">\n",
       "      <th></th>\n",
       "      <th>city</th>\n",
       "      <th>geometry</th>\n",
       "      <th>population</th>\n",
       "      <th>density</th>\n",
       "      <th>elevation</th>\n",
       "      <th>rainfall</th>\n",
       "      <th>temperature</th>\n",
       "    </tr>\n",
       "  </thead>\n",
       "  <tbody>\n",
       "    <tr>\n",
       "      <th>962</th>\n",
       "      <td>Makati City</td>\n",
       "      <td>POLYGON ((121.06578 14.53872, 121.06594 14.538...</td>\n",
       "      <td>510383</td>\n",
       "      <td>27000</td>\n",
       "      <td>18</td>\n",
       "      <td>2013</td>\n",
       "      <td>27.3</td>\n",
       "    </tr>\n",
       "    <tr>\n",
       "      <th>964</th>\n",
       "      <td>Mandaluyong</td>\n",
       "      <td>POLYGON ((121.05405 14.57747, 121.05408 14.577...</td>\n",
       "      <td>305576</td>\n",
       "      <td>18000</td>\n",
       "      <td>14</td>\n",
       "      <td>2093</td>\n",
       "      <td>27.2</td>\n",
       "    </tr>\n",
       "    <tr>\n",
       "      <th>965</th>\n",
       "      <td>Manila</td>\n",
       "      <td>POLYGON ((120.99142 14.56218, 120.98849 14.561...</td>\n",
       "      <td>1600000</td>\n",
       "      <td>42000</td>\n",
       "      <td>10</td>\n",
       "      <td>2047</td>\n",
       "      <td>27.3</td>\n",
       "    </tr>\n",
       "    <tr>\n",
       "      <th>970</th>\n",
       "      <td>Pasay City</td>\n",
       "      <td>POLYGON ((121.00084 14.50921, 121.00070 14.509...</td>\n",
       "      <td>416522</td>\n",
       "      <td>30000</td>\n",
       "      <td>8</td>\n",
       "      <td>1946</td>\n",
       "      <td>27.3</td>\n",
       "    </tr>\n",
       "    <tr>\n",
       "      <th>974</th>\n",
       "      <td>San Juan</td>\n",
       "      <td>POLYGON ((121.02965 14.59402, 121.02961 14.594...</td>\n",
       "      <td>121430</td>\n",
       "      <td>21000</td>\n",
       "      <td>21</td>\n",
       "      <td>1820</td>\n",
       "      <td>27.2</td>\n",
       "    </tr>\n",
       "  </tbody>\n",
       "</table>\n",
       "</div>"
      ],
      "text/plain": [
       "            city                                           geometry  \\\n",
       "962  Makati City  POLYGON ((121.06578 14.53872, 121.06594 14.538...   \n",
       "964  Mandaluyong  POLYGON ((121.05405 14.57747, 121.05408 14.577...   \n",
       "965       Manila  POLYGON ((120.99142 14.56218, 120.98849 14.561...   \n",
       "970   Pasay City  POLYGON ((121.00084 14.50921, 121.00070 14.509...   \n",
       "974     San Juan  POLYGON ((121.02965 14.59402, 121.02961 14.594...   \n",
       "\n",
       "     population  density  elevation  rainfall  temperature  \n",
       "962      510383    27000         18      2013         27.3  \n",
       "964      305576    18000         14      2093         27.2  \n",
       "965     1600000    42000         10      2047         27.3  \n",
       "970      416522    30000          8      1946         27.3  \n",
       "974      121430    21000         21      1820         27.2  "
      ]
     },
     "execution_count": 63,
     "metadata": {},
     "output_type": "execute_result"
    }
   ],
   "source": [
    "clean_gdf = metro_manila_gdf[['NAME_2', 'geometry']]\n",
    "clean_gdf.columns = ['city', 'geometry']\n",
    "\n",
    "clean_gdf['population'] = clean_gdf.city.map(city_population_mapping) \n",
    "\n",
    "# sequence: makati, mandaluyong, manila, pasay, san juan\n",
    "clean_gdf['density'] = [27000, 18000, 42000, 30000, 21000]\n",
    "clean_gdf['elevation'] = [18, 14, 10, 8, 21]\n",
    "clean_gdf['rainfall'] = [2013, 2093, 2047, 1946, 1820]\n",
    "clean_gdf['temperature'] = [27.3, 27.2, 27.3, 27.3, 27.2]\n",
    "\n",
    "clean_gdf"
   ]
  },
  {
   "cell_type": "markdown",
   "metadata": {},
   "source": [
    "### Getting spatial features\n",
    "\n",
    "Get spatial info from overpass\n",
    "\n",
    "Query:  \n",
    "> natural=* in \"Manila, Metro Manila\"  \n",
    "> building=* in \"Manila, Metro Manila\"  \n",
    "> highway=* in \"Manila, Metro Manila\"  \n",
    "\n",
    "buildings have API limit issues"
   ]
  },
  {
   "cell_type": "code",
   "execution_count": 87,
   "metadata": {},
   "outputs": [],
   "source": [
    "# natural_gdf = gpd.read_file(\"overpass/metromanila_natural.geojson\")\n",
    "# natural_gdf.head()"
   ]
  },
  {
   "cell_type": "code",
   "execution_count": 88,
   "metadata": {},
   "outputs": [],
   "source": [
    "# natural_gdf['addr:city'].value_counts()"
   ]
  },
  {
   "cell_type": "code",
   "execution_count": 89,
   "metadata": {},
   "outputs": [],
   "source": [
    "# natural_gdf.columns"
   ]
  },
  {
   "cell_type": "code",
   "execution_count": 90,
   "metadata": {},
   "outputs": [],
   "source": [
    "# makati_natural_gdf = gpd.read_file(\"overpass/makati_natural.geojson\")\n",
    "# makati_natural_gdf.head()"
   ]
  },
  {
   "cell_type": "code",
   "execution_count": 86,
   "metadata": {},
   "outputs": [],
   "source": [
    "# natural_gdf['is_in:city'].value_counts()"
   ]
  },
  {
   "cell_type": "code",
   "execution_count": 92,
   "metadata": {},
   "outputs": [
    {
     "data": {
      "text/plain": [
       "340"
      ]
     },
     "execution_count": 92,
     "metadata": {},
     "output_type": "execute_result"
    }
   ],
   "source": [
    "# makati_natural_gdf.shape[0]"
   ]
  },
  {
   "cell_type": "code",
   "execution_count": 93,
   "metadata": {},
   "outputs": [],
   "source": [
    "# sequence: makati, mandaluyong, manila, pasay, san juan\n",
    "natural = []\n",
    "highway = []\n",
    "for city in ['makati', 'mandaluyong', 'manila', 'pasay', 'sanjuan']:\n",
    "    natural_gdf = gpd.read_file(f\"overpass/{city}_natural.geojson\")\n",
    "    highway_gdf = gpd.read_file(f\"overpass/{city}_highway.geojson\")\n",
    "    natural += [natural_gdf.shape[0]]\n",
    "    highway += [highway_gdf.shape[0]]"
   ]
  },
  {
   "cell_type": "code",
   "execution_count": 94,
   "metadata": {},
   "outputs": [
    {
     "data": {
      "text/plain": [
       "([340, 29, 287, 493, 26], [6755, 2725, 8970, 4156, 1486])"
      ]
     },
     "execution_count": 94,
     "metadata": {},
     "output_type": "execute_result"
    }
   ],
   "source": [
    "natural, highway"
   ]
  },
  {
   "cell_type": "code",
   "execution_count": 95,
   "metadata": {},
   "outputs": [
    {
     "name": "stderr",
     "output_type": "stream",
     "text": [
      "C:\\Users\\jude_\\anaconda3\\envs\\dsi\\lib\\site-packages\\ipykernel_launcher.py:1: SettingWithCopyWarning: \n",
      "A value is trying to be set on a copy of a slice from a DataFrame.\n",
      "Try using .loc[row_indexer,col_indexer] = value instead\n",
      "\n",
      "See the caveats in the documentation: https://pandas.pydata.org/pandas-docs/stable/user_guide/indexing.html#returning-a-view-versus-a-copy\n",
      "  \"\"\"Entry point for launching an IPython kernel.\n",
      "C:\\Users\\jude_\\anaconda3\\envs\\dsi\\lib\\site-packages\\ipykernel_launcher.py:2: SettingWithCopyWarning: \n",
      "A value is trying to be set on a copy of a slice from a DataFrame.\n",
      "Try using .loc[row_indexer,col_indexer] = value instead\n",
      "\n",
      "See the caveats in the documentation: https://pandas.pydata.org/pandas-docs/stable/user_guide/indexing.html#returning-a-view-versus-a-copy\n",
      "  \n"
     ]
    },
    {
     "data": {
      "text/html": [
       "<div>\n",
       "<style scoped>\n",
       "    .dataframe tbody tr th:only-of-type {\n",
       "        vertical-align: middle;\n",
       "    }\n",
       "\n",
       "    .dataframe tbody tr th {\n",
       "        vertical-align: top;\n",
       "    }\n",
       "\n",
       "    .dataframe thead th {\n",
       "        text-align: right;\n",
       "    }\n",
       "</style>\n",
       "<table border=\"1\" class=\"dataframe\">\n",
       "  <thead>\n",
       "    <tr style=\"text-align: right;\">\n",
       "      <th></th>\n",
       "      <th>city</th>\n",
       "      <th>geometry</th>\n",
       "      <th>population</th>\n",
       "      <th>density</th>\n",
       "      <th>elevation</th>\n",
       "      <th>rainfall</th>\n",
       "      <th>temperature</th>\n",
       "      <th>natural</th>\n",
       "      <th>road</th>\n",
       "    </tr>\n",
       "  </thead>\n",
       "  <tbody>\n",
       "    <tr>\n",
       "      <th>962</th>\n",
       "      <td>Makati City</td>\n",
       "      <td>POLYGON ((121.06578 14.53872, 121.06594 14.538...</td>\n",
       "      <td>510383</td>\n",
       "      <td>27000</td>\n",
       "      <td>18</td>\n",
       "      <td>2013</td>\n",
       "      <td>27.3</td>\n",
       "      <td>340</td>\n",
       "      <td>6755</td>\n",
       "    </tr>\n",
       "    <tr>\n",
       "      <th>964</th>\n",
       "      <td>Mandaluyong</td>\n",
       "      <td>POLYGON ((121.05405 14.57747, 121.05408 14.577...</td>\n",
       "      <td>305576</td>\n",
       "      <td>18000</td>\n",
       "      <td>14</td>\n",
       "      <td>2093</td>\n",
       "      <td>27.2</td>\n",
       "      <td>29</td>\n",
       "      <td>2725</td>\n",
       "    </tr>\n",
       "    <tr>\n",
       "      <th>965</th>\n",
       "      <td>Manila</td>\n",
       "      <td>POLYGON ((120.99142 14.56218, 120.98849 14.561...</td>\n",
       "      <td>1600000</td>\n",
       "      <td>42000</td>\n",
       "      <td>10</td>\n",
       "      <td>2047</td>\n",
       "      <td>27.3</td>\n",
       "      <td>287</td>\n",
       "      <td>8970</td>\n",
       "    </tr>\n",
       "    <tr>\n",
       "      <th>970</th>\n",
       "      <td>Pasay City</td>\n",
       "      <td>POLYGON ((121.00084 14.50921, 121.00070 14.509...</td>\n",
       "      <td>416522</td>\n",
       "      <td>30000</td>\n",
       "      <td>8</td>\n",
       "      <td>1946</td>\n",
       "      <td>27.3</td>\n",
       "      <td>493</td>\n",
       "      <td>4156</td>\n",
       "    </tr>\n",
       "    <tr>\n",
       "      <th>974</th>\n",
       "      <td>San Juan</td>\n",
       "      <td>POLYGON ((121.02965 14.59402, 121.02961 14.594...</td>\n",
       "      <td>121430</td>\n",
       "      <td>21000</td>\n",
       "      <td>21</td>\n",
       "      <td>1820</td>\n",
       "      <td>27.2</td>\n",
       "      <td>26</td>\n",
       "      <td>1486</td>\n",
       "    </tr>\n",
       "  </tbody>\n",
       "</table>\n",
       "</div>"
      ],
      "text/plain": [
       "            city                                           geometry  \\\n",
       "962  Makati City  POLYGON ((121.06578 14.53872, 121.06594 14.538...   \n",
       "964  Mandaluyong  POLYGON ((121.05405 14.57747, 121.05408 14.577...   \n",
       "965       Manila  POLYGON ((120.99142 14.56218, 120.98849 14.561...   \n",
       "970   Pasay City  POLYGON ((121.00084 14.50921, 121.00070 14.509...   \n",
       "974     San Juan  POLYGON ((121.02965 14.59402, 121.02961 14.594...   \n",
       "\n",
       "     population  density  elevation  rainfall  temperature  natural  road  \n",
       "962      510383    27000         18      2013         27.3      340  6755  \n",
       "964      305576    18000         14      2093         27.2       29  2725  \n",
       "965     1600000    42000         10      2047         27.3      287  8970  \n",
       "970      416522    30000          8      1946         27.3      493  4156  \n",
       "974      121430    21000         21      1820         27.2       26  1486  "
      ]
     },
     "execution_count": 95,
     "metadata": {},
     "output_type": "execute_result"
    }
   ],
   "source": [
    "clean_gdf['natural'] = natural\n",
    "clean_gdf['road'] = highway\n",
    "\n",
    "clean_gdf"
   ]
  },
  {
   "cell_type": "markdown",
   "metadata": {},
   "source": [
    "### Saving engineered features except polygons"
   ]
  },
  {
   "cell_type": "code",
   "execution_count": 98,
   "metadata": {},
   "outputs": [],
   "source": [
    "clean_gdf.drop('geometry', axis=1).to_csv('tigerdash.csv')"
   ]
  },
  {
   "cell_type": "markdown",
   "metadata": {},
   "source": [
    "### Generating GeoJSON (for Mapbox)\n",
    "\n",
    "format:\n",
    "\n",
    "{\"type\":\"FeatureCollection\",\"features\":[\n",
    "\n",
    "    {\"type\":\"Feature\",\n",
    "        \"id\":\"01\",\n",
    "        \"properties\":{\"name\":\"Alabama\",\"density\":94.65},\n",
    "        \"geometry\":{\"type\":\"Polygon\",\"coordinates\":[]}\n",
    "    },\n",
    "    ...,\n",
    "    ...\n",
    "]}"
   ]
  },
  {
   "cell_type": "code",
   "execution_count": 73,
   "metadata": {},
   "outputs": [],
   "source": [
    "# lala = clean_gdf.iloc[0]['geometry']\n",
    "# [list(point) for point in lala.exterior.coords]"
   ]
  },
  {
   "cell_type": "code",
   "execution_count": 71,
   "metadata": {},
   "outputs": [],
   "source": [
    "tigerdash = {\"type\":\"FeatureCollection\",\"features\":[]}\n",
    "\n",
    "def get_coordinates(geometry):\n",
    "    return [list(point) for point in geometry.exterior.coords]\n",
    "    \n",
    "for i, row in clean_gdf.iterrows():\n",
    "    tigerdash_city = {\"type\":\"Feature\",\n",
    "        \"id\": i,\n",
    "        \"properties\": {\"name\": row['city'], \"population\": row['population'], \n",
    "                       \"density\": row['density'], \n",
    "                       \"elevation\": row[\"elevation\"],\n",
    "                       \"rainfall\": row[\"rainfall\"],\n",
    "                       \"temperature\": row[\"temperature\"],\n",
    "                       \"natural\": row[\"natural\"],\n",
    "                       \"road\": row[\"road\"]},\n",
    "        \"geometry\":{\"type\":\"Polygon\", \"coordinates\": [get_coordinates(row['geometry'])]}\n",
    "    }\n",
    "    tigerdash['features'] += [tigerdash_city]\n"
   ]
  },
  {
   "cell_type": "code",
   "execution_count": 72,
   "metadata": {},
   "outputs": [],
   "source": [
    "with open('tigerdash.geojson', 'w+') as f:\n",
    "    f.write(json.dumps(tigerdash))"
   ]
  },
  {
   "cell_type": "code",
   "execution_count": 70,
   "metadata": {},
   "outputs": [
    {
     "data": {
      "text/plain": [
       "[{0}, {1}]"
      ]
     },
     "execution_count": 70,
     "metadata": {},
     "output_type": "execute_result"
    }
   ],
   "source": [
    "[] + [{0}] + [{1}]"
   ]
  }
 ],
 "metadata": {
  "kernelspec": {
   "display_name": "Python 3",
   "language": "python",
   "name": "python3"
  },
  "language_info": {
   "codemirror_mode": {
    "name": "ipython",
    "version": 3
   },
   "file_extension": ".py",
   "mimetype": "text/x-python",
   "name": "python",
   "nbconvert_exporter": "python",
   "pygments_lexer": "ipython3",
   "version": "3.7.7"
  }
 },
 "nbformat": 4,
 "nbformat_minor": 4
}
